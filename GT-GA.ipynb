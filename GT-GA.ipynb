{
 "cells": [
  {
   "cell_type": "code",
   "execution_count": 518,
   "metadata": {},
   "outputs": [
    {
     "data": {
      "text/plain": [
       "0.8874016222166987"
      ]
     },
     "execution_count": 518,
     "metadata": {},
     "output_type": "execute_result"
    }
   ],
   "source": [
    "import random\n",
    "import numpy as np\n",
    "import matplotlib.pyplot as plt\n",
    "np.random.seed(410)\n",
    "np.random.rand()"
   ]
  },
  {
   "cell_type": "code",
   "execution_count": 519,
   "metadata": {},
   "outputs": [],
   "source": [
    "def chromosome(popSize):\n",
    "    return list(np.random.choice([0,1],popSize))"
   ]
  },
  {
   "cell_type": "code",
   "execution_count": 520,
   "metadata": {},
   "outputs": [
    {
     "data": {
      "text/plain": [
       "[0, 1, 0, 0, 1, 0]"
      ]
     },
     "execution_count": 520,
     "metadata": {},
     "output_type": "execute_result"
    }
   ],
   "source": [
    "chromosome(6)"
   ]
  },
  {
   "cell_type": "code",
   "execution_count": 521,
   "metadata": {},
   "outputs": [],
   "source": [
    "def strategies (popSize,chromLeng):\n",
    "    return [chromosome(popSize) for x in range(chromLeng)]"
   ]
  },
  {
   "cell_type": "code",
   "execution_count": 522,
   "metadata": {},
   "outputs": [
    {
     "data": {
      "text/plain": [
       "50"
      ]
     },
     "execution_count": 522,
     "metadata": {},
     "output_type": "execute_result"
    }
   ],
   "source": [
    "pop=strategies(6,50)\n",
    "len(pop)"
   ]
  },
  {
   "cell_type": "code",
   "execution_count": 523,
   "metadata": {},
   "outputs": [],
   "source": [
    "def CalculatePayoff(strategy1,strategy2):\n",
    "    payoffs=[[3,3],[0,5],[5,0],[1,1]]\n",
    "    if strategy1==0 and strategy2==1: # C,D\n",
    "        payoff=payoffs[1]\n",
    "    elif strategy1==1 and strategy2==0: # D,C\n",
    "        payoff=payoffs[2]\n",
    "    elif strategy1==1 and strategy2==1: # D,D\n",
    "         payoff=payoffs[3]\n",
    "    elif strategy1==0 and strategy2==0: # C,C\n",
    "        payoff=payoffs[0]\n",
    "    return payoff"
   ]
  },
  {
   "cell_type": "code",
   "execution_count": 524,
   "metadata": {},
   "outputs": [],
   "source": [
    "def lookupIPDGame(S1,S2,rounds):\n",
    "    payoffs=[]\n",
    "    hist1=[]\n",
    "    hist2=[]\n",
    "    hist1.append([S1[0],S2[1]])\n",
    "    hist2.append([S2[0],S1[1]])\n",
    "    for i in range(rounds):\n",
    "        pos1=(hist1[0][0]*(2**1))+(hist1[0][1]*(2**0))\n",
    "        pos2=(hist2[0][0]*(2**1))+(hist2[0][1]*(2**0))\n",
    "        payoffs.append(CalculatePayoff(S1[pos1],S2[pos2]))\n",
    "        newhist1=[S1[pos1],S2[pos2]]\n",
    "        newhist2=[S2[pos2],S1[pos1]]\n",
    "        hist1[0],hist2[0]=newhist1,newhist2\n",
    "    pay1,pay2=0,0\n",
    "    for i in range(len(payoffs)):\n",
    "        pay1+=payoffs[i][0]\n",
    "        pay2+=payoffs[i][1]\n",
    "    \n",
    "      \n",
    "    return pay1/rounds,pay2/rounds"
   ]
  },
  {
   "cell_type": "code",
   "execution_count": 525,
   "metadata": {},
   "outputs": [
    {
     "data": {
      "text/plain": [
       "(2.5, 2.5)"
      ]
     },
     "execution_count": 525,
     "metadata": {},
     "output_type": "execute_result"
    }
   ],
   "source": [
    "S1=[0,1,0,1,0,0]\n",
    "S2=[1,1,0,0,0,1]\n",
    "lookupIPDGame(S1,S2,100)"
   ]
  },
  {
   "cell_type": "code",
   "execution_count": 526,
   "metadata": {},
   "outputs": [],
   "source": [
    "def Games(pop,rounds):   #Tournment of each strategy Versus all other strategies in pop\n",
    "    games=[]\n",
    "    for i in range(len(pop)):\n",
    "        game=[]\n",
    "        #payoff=lookupIPDGame(pop[i],pop[i],rounds)\n",
    "        #game.append([payoff[0],payoff[1]])\n",
    "        for j in range(i+1,len(pop)):\n",
    "            payoff=lookupIPDGame(pop[i],pop[j],rounds)\n",
    "            game.append([payoff[0],payoff[1]])\n",
    "            \n",
    "        if len(game)!= len(pop):\n",
    "            k=i-1\n",
    "            for h in range(i):\n",
    "                payoff=[]\n",
    "                payoff=games[h][k]\n",
    "                payoff.reverse()        #Not to repeat an already played game, reverse payoff  \n",
    "                game.append(payoff)         #then append it to its correspondin Strategy \n",
    "                k-=1          \n",
    "        games.append(game)\n",
    "    return games\n",
    "    "
   ]
  },
  {
   "cell_type": "code",
   "execution_count": 527,
   "metadata": {},
   "outputs": [
    {
     "name": "stdout",
     "output_type": "stream",
     "text": [
      "49\n"
     ]
    }
   ],
   "source": [
    "Return=Games(pop,100)\n",
    "print(len(Return[0]))\n"
   ]
  },
  {
   "cell_type": "code",
   "execution_count": 528,
   "metadata": {},
   "outputs": [],
   "source": [
    "def Fitness(Return,rounds,PopSiz):\n",
    "    game=[]\n",
    "    Fitness=[]   #All Strategies PayOffs\n",
    "    for i in range (len(Return)):\n",
    "        game=Return[i]\n",
    "        payoff=0\n",
    "        for j in range(len(game)):\n",
    "            payoff+=game[j][0]    #PayOff of Each Strategy\n",
    "        Fitness.append(payoff/(PopSiz)) #Average Fitness per round per All Strategies      \n",
    "    return Fitness        "
   ]
  },
  {
   "cell_type": "code",
   "execution_count": 529,
   "metadata": {},
   "outputs": [
    {
     "name": "stdout",
     "output_type": "stream",
     "text": [
      "50\n"
     ]
    }
   ],
   "source": [
    "fit=Fitness(Return,50,50)\n",
    "print(len(fit))"
   ]
  },
  {
   "cell_type": "code",
   "execution_count": 530,
   "metadata": {},
   "outputs": [],
   "source": [
    "def elitism(fitness,pop):\n",
    "    maxfit=0\n",
    "    bestPop=[]\n",
    "    best_fit=[]\n",
    "    for j in range(2):\n",
    "        maxfit=max(fitness)\n",
    "        for i in range(len(fitness)):\n",
    "            if maxfit==fitness[i]:\n",
    "                bestPop.append(pop[i]) \n",
    "                pop.remove(pop[i])\n",
    "                best_fit.append(fitness[i])\n",
    "                fitness.remove(fitness[i])   \n",
    "                break\n",
    "            else:\n",
    "                continue\n",
    "         \n",
    "    return bestPop, fitness, pop,best_fit"
   ]
  },
  {
   "cell_type": "code",
   "execution_count": 531,
   "metadata": {},
   "outputs": [
    {
     "name": "stdout",
     "output_type": "stream",
     "text": [
      "48 48\n"
     ]
    }
   ],
   "source": [
    "elit=elitism(fit,pop)\n",
    "print(len(elit[2]),len(elit[1]))"
   ]
  },
  {
   "cell_type": "code",
   "execution_count": 532,
   "metadata": {},
   "outputs": [],
   "source": [
    "def evaluateRF (fitness):\n",
    "    rfProb=[]\n",
    "    sumOfFitness=0\n",
    "    for i in range(len(fitness)):\n",
    "        sumOfFitness+= fitness[i]\n",
    "    for i in range(len(fitness)):\n",
    "        rfProb.append(fitness[i]/sumOfFitness)\n",
    "    return rfProb"
   ]
  },
  {
   "cell_type": "code",
   "execution_count": 533,
   "metadata": {},
   "outputs": [
    {
     "name": "stdout",
     "output_type": "stream",
     "text": [
      "[0.02366991697928394, 0.030439795526200335, 0.011556919016539526, 0.020462684891998248, 0.018093822592110145, 0.018918588001618924, 0.028739248290099755, 0.028739248290099755, 0.026179924699768386, 0.028314111481074614, 0.014859381749046843, 0.020137880369903036, 0.014753947820408609, 0.015139972043003437, 0.02035214932165171, 0.02265809137380409, 0.015148474779183943, 0.01283913163255936, 0.0253381538178986, 0.01994401798498757, 0.018093822592110145, 0.02491301700887346, 0.01880975297850849, 0.022132622277849012, 0.016287841427371327, 0.02321246977277288, 0.02321246977277288, 0.022442121874819313, 0.021032368216091935, 0.01900021426895175, 0.021937059345697448, 0.01964132057696167, 0.021086785727647158, 0.024423259404876486, 0.020236512109596868, 0.021894545664794936, 0.02261727824013768, 0.021003458913078234, 0.018093822592110145, 0.01860058566846811, 0.01808531985592964, 0.01897470606041024, 0.01811082806447115, 0.01851045666495478, 0.017685691255446005, 0.021967669195947257, 0.02308662927730144, 0.028621910530808814]\n"
     ]
    }
   ],
   "source": [
    "RF=evaluateRF (elit[1])\n",
    "print(RF)"
   ]
  },
  {
   "cell_type": "code",
   "execution_count": 534,
   "metadata": {},
   "outputs": [],
   "source": [
    "def Calc_Commulative_fit(fit):\n",
    "    CommulativeFit = []\n",
    "    temp=0.0\n",
    "    for i in range(len(fit)):\n",
    "        CommulativeFit.append(fit[i]+temp)\n",
    "        temp= CommulativeFit[i]\n",
    "    return CommulativeFit"
   ]
  },
  {
   "cell_type": "code",
   "execution_count": 535,
   "metadata": {},
   "outputs": [
    {
     "name": "stdout",
     "output_type": "stream",
     "text": [
      "48\n"
     ]
    }
   ],
   "source": [
    "CF=Calc_Commulative_fit(RF)\n",
    "print(len(CF))"
   ]
  },
  {
   "cell_type": "code",
   "execution_count": 536,
   "metadata": {},
   "outputs": [],
   "source": [
    "def RW_selection(comDist,Individuals):\n",
    "    #print(randVar)\n",
    "    selected=[]\n",
    "    for i in range(len(comDist)):\n",
    "        randVar=np.random.rand()\n",
    "        for x in range(len(Individuals)):\n",
    "            #print(x)\n",
    "            if comDist[x] >= randVar:\n",
    "                selected.append(Individuals[x])\n",
    "                break\n",
    "            else:\n",
    "                continue\n",
    "                    \n",
    "    return selected"
   ]
  },
  {
   "cell_type": "code",
   "execution_count": 537,
   "metadata": {},
   "outputs": [
    {
     "name": "stdout",
     "output_type": "stream",
     "text": [
      "48\n"
     ]
    }
   ],
   "source": [
    "selected_strategies=RW_selection(CF,elit[2])\n",
    "print(len(selected_strategies))"
   ]
  },
  {
   "cell_type": "code",
   "execution_count": 538,
   "metadata": {},
   "outputs": [],
   "source": [
    "def crossOver(popSiz,indSiz, selected_ind,pCross = 0.6):\n",
    "    newpop =[]\n",
    "    \n",
    "    \n",
    "    while len(newpop) != popSiz-2:\n",
    "        for x in range (0,np.shape(selected_ind)[0],2):\n",
    "                cutPoint=np.round(np.random.rand()*(indSiz-1))\n",
    "                \n",
    "                p1=selected_ind[x]\n",
    "                p2=selected_ind[x+1]\n",
    "                offspring1 =[]\n",
    "                offspring2= []\n",
    "                \n",
    "\n",
    "                crossProb=np.random.rand()\n",
    "\n",
    "                if crossProb > pCross :\n",
    "                    newpop.append(p1)\n",
    "                    newpop.append(p2)\n",
    "                else: \n",
    "                    for i in range (0,int(cutPoint),1):\n",
    "                        offspring1.append(p1[i])\n",
    "                    for i in range ((int(cutPoint)),len(p2),1):\n",
    "                        offspring1.append(p2[i])\n",
    "                    for i in range (0,int(cutPoint),1):\n",
    "                        offspring2.append(p2[i])\n",
    "                    for i in range ((int(cutPoint)),len(p2),1):                         \n",
    "                        offspring2.append(p1[i])\n",
    "                    newpop.append(offspring1)\n",
    "                    newpop.append(offspring2)\n",
    "    return newpop\n",
    "\n"
   ]
  },
  {
   "cell_type": "code",
   "execution_count": 539,
   "metadata": {},
   "outputs": [
    {
     "name": "stdout",
     "output_type": "stream",
     "text": [
      "48\n"
     ]
    }
   ],
   "source": [
    "new_strategies=crossOver(50,6, selected_strategies,pCross = 0.6)\n",
    "print(len(new_strategies))"
   ]
  },
  {
   "cell_type": "code",
   "execution_count": 540,
   "metadata": {},
   "outputs": [],
   "source": [
    "def mutation(pop,indSiz,elit,pmuta=0.01):\n",
    "    fine_pop = []\n",
    "    for i in range(np.shape(pop)[0]):\n",
    "        p=pop[i]\n",
    "        for x in range (0,indSiz,1):\n",
    "            mut_prob=np.random.rand()\n",
    "            if  mut_prob < pmuta :\n",
    "                p[x] = type(p[x])(not p[x])\n",
    "            else:\n",
    "                continue\n",
    "        fine_pop.append(p)\n",
    "    fine_pop.append(elit[0])\n",
    "    fine_pop.append(elit[1])\n",
    "    return fine_pop\n"
   ]
  },
  {
   "cell_type": "code",
   "execution_count": 541,
   "metadata": {},
   "outputs": [
    {
     "name": "stdout",
     "output_type": "stream",
     "text": [
      "[[0, 0, 1, 0, 0, 0], [0, 0, 1, 0, 1, 1], [1, 1, 0, 1, 0, 1], [0, 1, 0, 0, 1, 1], [1, 1, 1, 1, 0, 1], [0, 0, 1, 0, 1, 1], [0, 0, 1, 1, 0, 1], [1, 1, 0, 0, 1, 1], [1, 1, 0, 0, 0, 0], [1, 0, 0, 0, 1, 0], [0, 1, 0, 0, 1, 1], [1, 1, 1, 1, 0, 0], [0, 0, 0, 1, 0, 0], [0, 0, 1, 1, 1, 1], [0, 0, 1, 0, 0, 0], [1, 0, 1, 0, 1, 0], [0, 1, 1, 1, 1, 1], [0, 0, 1, 0, 0, 0], [1, 1, 0, 1, 0, 0], [0, 0, 0, 1, 0, 1], [0, 0, 1, 0, 0, 1], [0, 0, 1, 0, 1, 1], [1, 0, 1, 0, 0, 0], [0, 1, 0, 1, 1, 1], [0, 0, 1, 1, 1, 1], [0, 0, 1, 0, 1, 0], [0, 0, 0, 1, 1, 0], [1, 0, 0, 1, 0, 0], [0, 1, 0, 1, 0, 0], [1, 0, 1, 0, 1, 0], [1, 1, 1, 1, 1, 0], [0, 0, 1, 1, 1, 1], [0, 0, 0, 1, 1, 1], [1, 0, 1, 1, 1, 1], [1, 1, 0, 1, 0, 0], [0, 0, 0, 1, 1, 1], [0, 0, 0, 1, 1, 0], [0, 1, 1, 1, 1, 0], [0, 1, 0, 1, 1, 0], [1, 0, 0, 1, 1, 1], [0, 1, 0, 1, 0, 0], [0, 0, 0, 1, 1, 0], [1, 0, 1, 0, 1, 1], [0, 1, 0, 0, 1, 1], [0, 0, 1, 0, 0, 1], [0, 1, 0, 0, 0, 0], [0, 0, 0, 0, 1, 0], [0, 0, 1, 0, 0, 1], [0, 0, 1, 0, 0, 0], [0, 0, 1, 1, 0, 1]]\n"
     ]
    }
   ],
   "source": [
    "mutated_strategies=mutation(new_strategies,6,elit[0])\n",
    "print(mutated_strategies)"
   ]
  },
  {
   "cell_type": "code",
   "execution_count": 542,
   "metadata": {},
   "outputs": [],
   "source": [
    "def GA(popSize,numOfGeneration,chromLeng,rounds): \n",
    "    FinalPop=[] \n",
    "    AAPayOff=[] \n",
    "    APayOff=[]\n",
    "    for i in range(0,numOfGeneration): \n",
    "        fit=0 \n",
    "        if i==0: \n",
    "            Pop=strategies(chromLeng,popSize) \n",
    "        else: \n",
    "            Pop=MutatedPopulation \n",
    "        Return=Games(Pop,rounds) \n",
    "        fitness=Fitness(Return,rounds,popSize)\n",
    "        elit=elitism(fitness,Pop) \n",
    "        RF = evaluateRF (elit[1]) \n",
    "        comDist=Calc_Commulative_fit(RF) \n",
    "        selectedIndv = RW_selection(comDist,elit[2]) \n",
    "        newPopulation= crossOver(popSize,chromLeng, selectedIndv ) \n",
    "        MutatedPopulation= mutation(newPopulation,chromLeng,elit[0])\n",
    "       #FinalPop.append(MutatedPopulation)\n",
    "        Best_Fitness=elit[0]\n",
    "        fit=sum(fitness)/popSize\n",
    "        APayOff.append(sum(fitness)/numOfGeneration)\n",
    "        AAPayOff.append(fit)\n",
    "    return APayOff,AAPayOff, elit[3],elit[0]\n",
    "\n"
   ]
  },
  {
   "cell_type": "code",
   "execution_count": 543,
   "metadata": {},
   "outputs": [
    {
     "name": "stdout",
     "output_type": "stream",
     "text": [
      "PayOffs:  [2.1494280000000012, 2.2579259999999994, 2.230924, 2.5446320000000004, 2.4779419999999996, 2.6499679999999985, 2.5970269999999998, 2.479211000000001, 2.4618140000000004, 2.618535, 2.6925929999999996, 2.5533219999999988, 2.725591000000001, 2.6282889999999997, 2.5127550000000003, 2.795654000000001, 2.7728439999999988, 2.7312120000000006, 2.5772280000000016, 2.683776000000002, 2.714826000000001, 2.6489320000000007, 2.688568, 2.729972, 2.7376500000000004, 2.726847999999998, 2.8094359999999994, 2.8721340000000044, 2.7514219999999985, 2.849644, 2.7778149999999986, 2.826857, 2.611453000000001, 2.7154139999999996, 2.8159029999999996, 2.855515999999996, 2.841669, 2.755124000000001, 2.752255, 2.8492350000000006, 2.7940049999999985, 2.821255, 2.842121000000002, 2.8744919999999983, 2.8823369999999984, 2.7526800000000002, 2.7372860000000014, 2.7618490000000016, 2.7116219999999993, 2.8131490000000015, 2.7855639999999995, 2.7326239999999995, 2.8732830000000003, 2.8675010000000043, 2.915182000000002, 2.9565990000000015, 2.910093000000002, 2.812682999999999, 2.8784390000000015, 2.952132999999998, 2.8127799999999983, 2.816308999999998, 2.7868539999999977, 2.7966200000000008, 2.9295499999999994, 2.8672609999999965, 2.830002999999999, 2.942483999999996, 2.936054999999996, 2.924009999999996, 2.922628000000003, 2.9414200000000017, 2.954655999999998, 2.8790479999999996, 2.894806999999998, 2.879985999999997, 2.7944119999999995, 2.9224579999999984, 2.8797309999999987, 2.9684080000000024, 2.904870000000006, 2.933321000000002, 2.923111000000003, 2.815481, 2.7731219999999985, 2.884879999999998, 2.953071000000001, 2.8814130000000016, 2.939082000000001, 2.8807359999999975, 2.8574399999999986, 2.7497339999999983, 2.790431999999998, 3.005559999999997, 2.765682000000001, 2.8541840000000014, 2.97908, 2.817098, 2.897682000000001, 2.9260000000000006, 2.943055999999999, 2.759226, 2.809694000000001, 2.8643579999999993, 2.764457999999999, 2.876160000000001, 2.757198000000001, 2.8078600000000016, 2.8229519999999995, 2.817502, 2.788083999999998, 2.8076040000000004, 2.840408000000001, 2.749861999999999, 2.892767999999998, 2.7445279999999963, 2.8247620000000007, 2.7754279999999976, 2.8194699999999995, 2.8129159999999978, 2.9135159999999987, 2.7933860000000004, 2.8247779999999993, 2.9442640000000018, 2.8740840000000047, 2.888660000000002, 2.8544780000000007, 2.8405699999999983, 2.8247310000000025, 2.807241000000002, 2.9411050000000007, 2.8354120000000007, 2.6857540000000006, 2.7853809999999988, 2.781313999999999, 2.8683899999999976, 2.854740000000001, 2.873522, 2.7703819999999992, 2.7823400000000027, 2.9683639999999967, 2.9038019999999953, 2.932359999999995, 2.8554080000000006, 2.9297780000000033, 2.9454320000000025, 2.775068, 2.86322, 2.8769240000000025, 2.883682000000002, 2.9072339999999985, 2.9650320000000003, 2.8952600000000017, 2.9087400000000003, 2.964916000000001, 2.855292, 2.9252139999999986, 2.897766000000003, 2.802549999999998, 2.816037999999997, 2.8310700000000013, 2.855508000000002, 2.899278000000003, 2.832068000000001, 2.936823999999997, 2.8734920000000024, 2.824009999999997, 2.793515999999999, 2.832411999999999, 2.8525480000000005, 2.90977, 2.82341, 2.8699639999999995, 2.7792180000000015, 2.745953999999997, 2.78036, 2.6957660000000017, 2.8152899999999983, 2.8788920000000013, 2.9230979999999986, 2.7607840000000015, 2.8053079999999984, 2.746344, 2.9477699999999976, 2.8316459999999997, 2.7256260000000014, 2.807824000000004, 2.963598000000001, 2.7675660000000017, 2.8003920000000035, 2.8277879999999986, 2.7862619999999994, 2.846991999999998, 2.9575019999999985, 2.910674, 2.875831999999994, 2.9406240000000037, 2.924935999999996, 2.876380000000001, 2.830374000000004, 2.955280000000002, 2.8834259999999987, 2.8919820000000045, 2.933967999999999, 2.8878300000000037, 2.8625599999999976, 2.9399380000000037, 2.9433100000000003, 2.845621999999997, 2.995629999999996, 2.988085999999997, 2.871330000000002, 2.9148579999999975, 2.931168000000003, 2.836497999999997, 2.8782540000000005, 2.9076040000000005, 2.856301999999998, 2.808474000000002, 2.8358039999999995, 2.8359680000000007, 2.8589919999999984, 2.866234, 2.9102599999999974, 2.8725780000000003, 2.8644459999999987, 2.7919020000000008, 2.8488379999999967, 2.810560000000001, 2.8837379999999975, 2.9159719999999987, 2.8651139999999957, 2.822241999999997, 2.790095999999997, 2.8688899999999995, 2.7918140000000022, 2.817643999999999, 2.772561999999999, 2.7594539999999976, 2.7239339999999994, 2.7957559999999977, 2.782433999999999, 2.726349999999999, 2.8211969999999993, 2.7431059999999974, 2.769638000000001, 2.7561980000000013, 2.726012999999999, 2.7817299999999987, 2.8204979999999984, 2.8125249999999995, 2.7957729999999983, 2.7718660000000006, 2.761692000000001, 2.832714000000001, 2.838400999999999, 2.786848, 2.8434839999999992, 2.7490659999999973, 2.7721940000000007, 2.741447999999998, 2.7310600000000007, 2.7508049999999993, 2.7624759999999986, 2.8400789999999967, 2.843444999999999, 2.8396539999999946, 2.8964319999999986, 2.920527999999999, 2.896231, 2.9164899999999983, 2.899235, 2.9056830000000016, 2.869000999999996, 2.879728, 2.8690800000000034, 2.8753260000000016, 2.859575999999999, 2.856913999999998, 2.834761000000002, 2.8747229999999995, 2.80611, 2.835136000000001, 2.7178189999999978, 2.8731440000000004, 2.8063359999999995, 2.816325000000002, 2.8809299999999984, 2.879363999999998, 2.888462999999999, 2.9257, 2.915541000000002, 2.9494789999999993, 2.854737, 2.9114500000000008, 2.927868000000002, 2.8870229999999992, 2.9157719999999965, 2.896809999999998, 2.8926760000000007] Best two Strategies :  [[1, 0, 1, 1, 1, 1], [1, 1, 1, 0, 1, 1]]\n"
     ]
    }
   ],
   "source": [
    "RunGA=GA(100,300,6,100)\n",
    "print(\"PayOffs: \",RunGA[1],\"Best two Strategies : \",RunGA[3])"
   ]
  },
  {
   "cell_type": "code",
   "execution_count": 546,
   "metadata": {},
   "outputs": [
    {
     "data": {
      "text/plain": [
       "Text(0,0.5,'Average Average payoffs')"
      ]
     },
     "execution_count": 546,
     "metadata": {},
     "output_type": "execute_result"
    },
    {
     "data": {
      "image/png": "[encoded data removed]",
      "text/plain": [
       "<matplotlib.figure.Figure at 0x1c10cafe470>"
      ]
     },
     "metadata": {},
     "output_type": "display_data"
    }
   ],
   "source": [
    "plt.plot(RunGA[1])\n",
    "plt.xlabel('number of generation')\n",
    "plt.ylim([0,4])\n",
    "#plt.ylabel('Average payoffs')\n",
    "plt.ylabel('Average Average payoffs')"
   ]
  },
  {
   "cell_type": "code",
   "execution_count": null,
   "metadata": {},
   "outputs": [],
   "source": []
  }
 ],
 "metadata": {
  "kernelspec": {
   "display_name": "Python 3",
   "language": "python",
   "name": "python3"
  },
  "language_info": {
   "codemirror_mode": {
    "name": "ipython",
    "version": 3
   },
   "file_extension": ".py",
   "mimetype": "text/x-python",
   "name": "python",
   "nbconvert_exporter": "python",
   "pygments_lexer": "ipython3",
   "version": "3.6.4"
  }
 },
 "nbformat": 4,
 "nbformat_minor": 2
}
